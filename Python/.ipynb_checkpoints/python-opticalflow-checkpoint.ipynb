{
 "cells": [
  {
   "cell_type": "code",
   "execution_count": 1,
   "metadata": {},
   "outputs": [
    {
     "name": "stdout",
     "output_type": "stream",
     "text": [
      "<module 'cv2' from '/project/at073-elderfall/opt/opencv/python/cv2/python-3.6/cv2.cpython-36m-x86_64-linux-gnu.so'>\n",
      "<module 'Outil' from '/home/jovyan/PLAY/t-opticalflow/export/Python/Outil/__init__.py'>\n"
     ]
    }
   ],
   "source": [
    "import sys\n",
    "import joblib\n",
    "import numpy as np\n",
    "import matplotlib.pyplot as plot\n",
    "%matplotlib inline\n",
    "\n",
    "import pims # Provides an iterable view of video\n",
    "\n",
    "#\n",
    "# Path to CUDA enabled OpenCV\n",
    "#\n",
    "sys.path.insert(0,\"/project/at073-elderfall/opt/opencv/python/cv2/python-3.6\")\n",
    "import cv2 as cv\n",
    "\n",
    "#\n",
    "# Custom OpenCV optical flow python interface\n",
    "#\n",
    "# *** Make sure it is on the path! ***\n",
    "#\n",
    "from Outil import OpticalFlow\n",
    "import Outil\n",
    "\n",
    "print(cv)\n",
    "print(Outil)"
   ]
  },
  {
   "cell_type": "code",
   "execution_count": 2,
   "metadata": {},
   "outputs": [
    {
     "name": "stdout",
     "output_type": "stream",
     "text": [
      "current:\n",
      "  algorithm: DualTVL1\n",
      "  alias: CUDA_DualTVL1_dense\n",
      "  device: CUDA\n",
      "  feature: dense\n",
      "  implementation: cv::cuda::OpticalFlowDual_TVL1\n",
      "detail: {}\n",
      "\n"
     ]
    },
    {
     "data": {
      "text/plain": [
       "{'current': {'alias': 'CUDA_DualTVL1_dense',\n",
       "  'feature': 'dense',\n",
       "  'implementation': 'cv::cuda::OpticalFlowDual_TVL1',\n",
       "  'algorithm': 'DualTVL1',\n",
       "  'device': 'CUDA'},\n",
       " 'detail': {}}"
      ]
     },
     "execution_count": 2,
     "metadata": {},
     "output_type": "execute_result"
    }
   ],
   "source": [
    "#\n",
    "# Optical flow algorithm dispatcher\n",
    "#\n",
    "Q = OpticalFlow()\n",
    "\n",
    "#\n",
    "# Initial state, no implementation loaded.\n",
    "#\n",
    "# \"infoPP\" pretty prints the state\n",
    "# \"info\" returns a dict which you can modify programmatically\n",
    "#\n",
    "Q.infoPP()\n",
    "Q.info()"
   ]
  },
  {
   "cell_type": "code",
   "execution_count": 3,
   "metadata": {},
   "outputs": [
    {
     "name": "stdout",
     "output_type": "stream",
     "text": [
      "current:\n",
      "  algorithm: DualTVL1\n",
      "  alias: CUDA_DualTVL1_dense\n",
      "  device: CUDA\n",
      "  feature: dense\n",
      "  implementation: cv::cuda::OpticalFlowDual_TVL1\n",
      "detail:\n",
      "  CUDA_DualTVL1_dense:\n",
      "    epsilon: 0.01\n",
      "    gamma: 0.0\n",
      "    iterations: 300\n",
      "    lambda: 0.15\n",
      "    nscales: 5\n",
      "    scaleStep: 0.8\n",
      "    tau: 0.25\n",
      "    theta: 0.3\n",
      "    useInitialFlow: false\n",
      "    warps: 5\n",
      "\n"
     ]
    },
    {
     "data": {
      "text/plain": [
       "<Outil.OpticalFlow at 0x7faf41493fc0>"
      ]
     },
     "execution_count": 3,
     "metadata": {},
     "output_type": "execute_result"
    }
   ],
   "source": [
    "#\n",
    "# Load default implementation.\n",
    "#\n",
    "Q.load()\n",
    "Q.infoPP()"
   ]
  },
  {
   "cell_type": "code",
   "execution_count": 4,
   "metadata": {},
   "outputs": [
    {
     "name": "stdout",
     "output_type": "stream",
     "text": [
      "device           :  CUDA , CPU\n",
      "algorithm        :  DualTVL1 , Farneback , PyrLK\n",
      "feature          :  dense\n"
     ]
    },
    {
     "data": {
      "text/plain": [
       "{'device': ['CUDA', 'CPU'],\n",
       " 'algorithm': ['DualTVL1', 'Farneback', 'PyrLK'],\n",
       " 'feature': ['dense']}"
      ]
     },
     "execution_count": 4,
     "metadata": {},
     "output_type": "execute_result"
    }
   ],
   "source": [
    "#\n",
    "# List available implementations:\n",
    "#\n",
    "#  PS Not all combinations are available.\n",
    "#\n",
    "Q.availablePP()\n",
    "Q.available()"
   ]
  },
  {
   "cell_type": "code",
   "execution_count": 5,
   "metadata": {},
   "outputs": [
    {
     "name": "stdout",
     "output_type": "stream",
     "text": [
      "current:\n",
      "  algorithm: Farneback\n",
      "  alias: CPU_Farneback_dense\n",
      "  device: CPU\n",
      "  feature: dense\n",
      "  implementation: cv::FarnebackOpticalFlow\n",
      "detail:\n",
      "  CPU_Farneback_dense:\n",
      "    fastPyramids: false\n",
      "    flags: 0\n",
      "    numIters: 10\n",
      "    numLevels: 5\n",
      "    polyN: 5\n",
      "    polySigma: 1.1\n",
      "    pyrScale: 0.5\n",
      "    winSize: 13\n",
      "  CUDA_DualTVL1_dense:\n",
      "    epsilon: 0.01\n",
      "    gamma: 0.0\n",
      "    iterations: 300\n",
      "    lambda: 0.15\n",
      "    nscales: 5\n",
      "    scaleStep: 0.8\n",
      "    tau: 0.25\n",
      "    theta: 0.3\n",
      "    useInitialFlow: false\n",
      "    warps: 5\n",
      "\n"
     ]
    },
    {
     "data": {
      "text/plain": [
       "<Outil.OpticalFlow at 0x7faf41493fc0>"
      ]
     },
     "execution_count": 5,
     "metadata": {},
     "output_type": "execute_result"
    }
   ],
   "source": [
    "#\n",
    "# Select a different algorithm on a different device\n",
    "#\n",
    "Q.device(\"CPU\").algorithm(\"Farneback\").load()\n",
    "Q.infoPP()"
   ]
  },
  {
   "cell_type": "code",
   "execution_count": 6,
   "metadata": {},
   "outputs": [
    {
     "name": "stdout",
     "output_type": "stream",
     "text": [
      "current:\n",
      "  algorithm: DualTVL1\n",
      "  alias: CUDA_DualTVL1_dense\n",
      "  device: CUDA\n",
      "  feature: dense\n",
      "  implementation: cv::cuda::OpticalFlowDual_TVL1\n",
      "detail:\n",
      "  CUDA_DualTVL1_dense:\n",
      "    epsilon: 0.01\n",
      "    gamma: 0.0\n",
      "    iterations: 30\n",
      "    lambda: 0.15\n",
      "    nscales: 5\n",
      "    scaleStep: 0.8\n",
      "    tau: 0.25\n",
      "    theta: 0.3\n",
      "    useInitialFlow: false\n",
      "    warps: 5\n",
      "\n"
     ]
    },
    {
     "data": {
      "text/plain": [
       "<Outil.OpticalFlow at 0x7faf41493fc0>"
      ]
     },
     "execution_count": 6,
     "metadata": {},
     "output_type": "execute_result"
    }
   ],
   "source": [
    "#\n",
    "# Let's go back to Dual TVL1\n",
    "#\n",
    "Q.device(\"CUDA\").algorithm(\"DualTVL1\") # already loaded\n",
    "\n",
    "#\n",
    "# Initialize kernel, optionally with alternative parameter values.\n",
    "#\n",
    "Q.kernel({\"iterations\": 30, \"warps\": 5})\n",
    "\n",
    "Q.infoPP(False)"
   ]
  },
  {
   "cell_type": "code",
   "execution_count": 7,
   "metadata": {},
   "outputs": [
    {
     "name": "stderr",
     "output_type": "stream",
     "text": [
      "/opt/conda/lib/python3.6/site-packages/pims/pyav_reader.py:252: MethodDeprecationWarning: VideoStream.seek is deprecated.\n",
      "  self._stream.seek(timestamp + self._first_pts)\n"
     ]
    }
   ],
   "source": [
    "#data_path=\"/project/at073-elderfall/opt/contrib/Outil/data/OpticalFlow\"\n",
    "data_path=\"Outil/data/OpticalFlow\"\n",
    "\n",
    "vid = pims.PyAVReaderTimed(f'{data_path}/VID/2.mp4')\n",
    "\n",
    "#\n",
    "# Rounding error with:\n",
    "#\n",
    "#  [cv.imread(f'{data_path}/IMG/{_}.png',cv.IMREAD_GRAYSCALE) for _ in [336,337,338]]\n",
    "#\n",
    "# However, this is fine:\n",
    "#\n",
    "#  [ cv.cvtColor(cv.imread(f'{data_path}/IMG/{_}.png',cv.IMREAD_COLOR),cv.COLOR_BGR2GRAY) for _ in [336,337,338]]\n",
    "#\n",
    "img = [ cv.cvtColor(vid[_],cv.COLOR_RGB2GRAY) for _ in [335,336,337]]"
   ]
  },
  {
   "cell_type": "code",
   "execution_count": 8,
   "metadata": {},
   "outputs": [
    {
     "name": "stdout",
     "output_type": "stream",
     "text": [
      "3 diffs calculated. Time taken 0.612119637 secs\n",
      "1 diffs calculated. Time taken 0.141987005 secs\n"
     ]
    }
   ],
   "source": [
    "#\n",
    "# Calculate optical flow. Result is a list of differences between\n",
    "# adjacent frames. \"wrap\" takes the difference between the last and\n",
    "# the first images in that order.\n",
    "#\n",
    "flow, elapsed = Q(img,wrap=True)\n",
    "print(f'{len(flow)} diffs calculated. Time taken {elapsed} secs')\n",
    "\n",
    "#\n",
    "# Alternatively, with only two images\n",
    "#\n",
    "flow, elapsed = Q(img[0],img[1])\n",
    "print(f'{len(flow)} diffs calculated. Time taken {elapsed} secs')"
   ]
  },
  {
   "cell_type": "code",
   "execution_count": 9,
   "metadata": {},
   "outputs": [
    {
     "name": "stderr",
     "output_type": "stream",
     "text": [
      "/opt/conda/lib/python3.6/site-packages/pims/pyav_reader.py:252: MethodDeprecationWarning: VideoStream.seek is deprecated.\n",
      "  self._stream.seek(timestamp + self._first_pts)\n"
     ]
    }
   ],
   "source": [
    "img = [ cv.cvtColor(_,cv.COLOR_RGB2GRAY) for _ in vid]"
   ]
  },
  {
   "cell_type": "code",
   "execution_count": 10,
   "metadata": {},
   "outputs": [
    {
     "data": {
      "text/plain": [
       "array([[131, 131, 131, ...,  96,  96,  96],\n",
       "       [131, 131, 131, ...,  96,  96,  96],\n",
       "       [131, 131, 131, ...,  96,  96,  96],\n",
       "       ...,\n",
       "       [ 37,  47,  62, ..., 174, 174, 174],\n",
       "       [ 46,  47,  57, ..., 174, 174, 174],\n",
       "       [ 48,  47,  53, ..., 174, 174, 174]], dtype=uint8)"
      ]
     },
     "execution_count": 10,
     "metadata": {},
     "output_type": "execute_result"
    }
   ],
   "source": [
    "img[327]"
   ]
  },
  {
   "cell_type": "raw",
   "metadata": {},
   "source": [
    "#\n",
    "# Achieves only about ~ 15% utilisation\n",
    "#\n",
    "\n",
    "Thu Jan 24 10:28:32 2019\n",
    "+-----------------------------------------------------------------------------+\n",
    "| NVIDIA-SMI 390.67                 Driver Version: 390.67                    |\n",
    "|-------------------------------+----------------------+----------------------+\n",
    "| GPU  Name        Persistence-M| Bus-Id        Disp.A | Volatile Uncorr. ECC |\n",
    "| Fan  Temp  Perf  Pwr:Usage/Cap|         Memory-Usage | GPU-Util  Compute M. |\n",
    "|===============================+======================+======================|\n",
    "|   0  GeForce GTX 108...  Off  | 00000000:04:00.0 Off |                  N/A |\n",
    "| 23%   36C    P2    61W / 250W |    479MiB / 11178MiB |     13%      Default |\n",
    "+-------------------------------+----------------------+----------------------+\n",
    "\n",
    "+-----------------------------------------------------------------------------+\n",
    "| Processes:                                                       GPU Memory |\n",
    "|  GPU       PID   Type   Process name                             Usage      |\n",
    "|=============================================================================|\n",
    "+-----------------------------------------------------------------------------+"
   ]
  },
  {
   "cell_type": "code",
   "execution_count": 11,
   "metadata": {},
   "outputs": [
    {
     "name": "stdout",
     "output_type": "stream",
     "text": [
      "518 diffs calculated. Time taken 39.50970186299999 secs\n"
     ]
    }
   ],
   "source": [
    "flow, elapsed = Q(img,wrap=True)\n",
    "print(f'{len(flow)} diffs calculated. Time taken {elapsed} secs')"
   ]
  },
  {
   "cell_type": "code",
   "execution_count": 12,
   "metadata": {},
   "outputs": [],
   "source": [
    "def optical_flow_viewer(flow):\n",
    " \n",
    " m = flow[...,0]**2 + flow[...,1]**2\n",
    " _ = (np.min(m),np.max(m))\n",
    "\n",
    " r = np.int0((m-_[0])*255/(_[1]-_[0])+0.5)\n",
    "\n",
    " plot.imshow(r)"
   ]
  },
  {
   "cell_type": "code",
   "execution_count": 13,
   "metadata": {},
   "outputs": [
    {
     "data": {
      "image/png": "[encoded data removed]",
      "text/plain": [
       "<Figure size 432x288 with 1 Axes>"
      ]
     },
     "metadata": {
      "needs_background": "light"
     },
     "output_type": "display_data"
    }
   ],
   "source": [
    "optical_flow_viewer(flow[357])"
   ]
  },
  {
   "cell_type": "code",
   "execution_count": null,
   "metadata": {},
   "outputs": [],
   "source": []
  }
 ],
 "metadata": {
  "kernelspec": {
   "display_name": "Python 3",
   "language": "python",
   "name": "python3"
  },
  "language_info": {
   "codemirror_mode": {
    "name": "ipython",
    "version": 3
   },
   "file_extension": ".py",
   "mimetype": "text/x-python",
   "name": "python",
   "nbconvert_exporter": "python",
   "pygments_lexer": "ipython3",
   "version": "3.6.6"
  }
 },
 "nbformat": 4,
 "nbformat_minor": 2
}
